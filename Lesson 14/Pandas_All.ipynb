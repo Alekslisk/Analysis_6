{
 "cells": [
  {
   "cell_type": "code",
   "execution_count": 1,
   "id": "3bb55a26-70cc-462c-aa74-3a1e6420d546",
   "metadata": {},
   "outputs": [],
   "source": [
    "import pandas as pd"
   ]
  },
  {
   "cell_type": "markdown",
   "id": "bb947cdf-6b21-49a5-bedc-971bc120fd20",
   "metadata": {},
   "source": [
    "# Основные структуры данных"
   ]
  },
  {
   "cell_type": "code",
   "execution_count": 7,
   "id": "1daabe71-b7e8-45e2-a03d-40f905c75a50",
   "metadata": {},
   "outputs": [],
   "source": [
    "data = ['Text', 20, 30, 40, 50]"
   ]
  },
  {
   "cell_type": "code",
   "execution_count": 8,
   "id": "a0202fa9-6d2e-4955-9163-d4d29e225c4d",
   "metadata": {},
   "outputs": [
    {
     "data": {
      "text/plain": [
       "['Text', 20, 30, 40, 50]"
      ]
     },
     "execution_count": 8,
     "metadata": {},
     "output_type": "execute_result"
    }
   ],
   "source": [
    "data"
   ]
  },
  {
   "cell_type": "code",
   "execution_count": 9,
   "id": "11dcc39e-e6b3-48d3-bf63-7b50fc424d8f",
   "metadata": {},
   "outputs": [],
   "source": [
    "# Series \n",
    "# Одномерные данные\n",
    "\n",
    "my_series = pd.Series(data)"
   ]
  },
  {
   "cell_type": "code",
   "execution_count": 10,
   "id": "91d2b940-19d3-43e6-924b-d149cbceffd7",
   "metadata": {},
   "outputs": [
    {
     "data": {
      "text/plain": [
       "0    Text\n",
       "1      20\n",
       "2      30\n",
       "3      40\n",
       "4      50\n",
       "dtype: object"
      ]
     },
     "execution_count": 10,
     "metadata": {},
     "output_type": "execute_result"
    }
   ],
   "source": [
    "my_series"
   ]
  },
  {
   "cell_type": "code",
   "execution_count": 49,
   "id": "3f4a5e41-26ce-42d7-b2d3-134ab5a6ce89",
   "metadata": {},
   "outputs": [],
   "source": [
    "data_df = {\n",
    "    'Name': ['Alice', 'Rimma'],\n",
    "    'Age': [21, 24],\n",
    "    'Describe': ['', 'Yep']\n",
    "}"
   ]
  },
  {
   "cell_type": "code",
   "execution_count": 50,
   "id": "f5453a16-10b0-4aea-bc9e-5f3a92384bfe",
   "metadata": {},
   "outputs": [],
   "source": [
    "# DataFrame\n",
    "# Двумерные данные\n",
    "\n",
    "my_df = pd.DataFrame(data_df, index = ['a','b'])"
   ]
  },
  {
   "cell_type": "code",
   "execution_count": 51,
   "id": "1349f6db-09f1-477a-a589-d7bc580a8a2c",
   "metadata": {},
   "outputs": [
    {
     "data": {
      "text/html": [
       "<div>\n",
       "<style scoped>\n",
       "    .dataframe tbody tr th:only-of-type {\n",
       "        vertical-align: middle;\n",
       "    }\n",
       "\n",
       "    .dataframe tbody tr th {\n",
       "        vertical-align: top;\n",
       "    }\n",
       "\n",
       "    .dataframe thead th {\n",
       "        text-align: right;\n",
       "    }\n",
       "</style>\n",
       "<table border=\"1\" class=\"dataframe\">\n",
       "  <thead>\n",
       "    <tr style=\"text-align: right;\">\n",
       "      <th></th>\n",
       "      <th>Name</th>\n",
       "      <th>Age</th>\n",
       "      <th>Describe</th>\n",
       "    </tr>\n",
       "  </thead>\n",
       "  <tbody>\n",
       "    <tr>\n",
       "      <th>0</th>\n",
       "      <td>Alice</td>\n",
       "      <td>21</td>\n",
       "      <td></td>\n",
       "    </tr>\n",
       "    <tr>\n",
       "      <th>1</th>\n",
       "      <td>Rimma</td>\n",
       "      <td>24</td>\n",
       "      <td>Yep</td>\n",
       "    </tr>\n",
       "  </tbody>\n",
       "</table>\n",
       "</div>"
      ],
      "text/plain": [
       "    Name  Age Describe\n",
       "0  Alice   21         \n",
       "1  Rimma   24      Yep"
      ]
     },
     "execution_count": 51,
     "metadata": {},
     "output_type": "execute_result"
    }
   ],
   "source": [
    "my_df"
   ]
  },
  {
   "cell_type": "code",
   "execution_count": 52,
   "id": "3f118b70-5f56-4562-a8cd-ccc022eff15a",
   "metadata": {},
   "outputs": [
    {
     "name": "stdout",
     "output_type": "stream",
     "text": [
      "<class 'pandas.core.frame.DataFrame'>\n",
      "RangeIndex: 2 entries, 0 to 1\n",
      "Data columns (total 3 columns):\n",
      " #   Column    Non-Null Count  Dtype \n",
      "---  ------    --------------  ----- \n",
      " 0   Name      2 non-null      object\n",
      " 1   Age       2 non-null      int64 \n",
      " 2   Describe  2 non-null      object\n",
      "dtypes: int64(1), object(2)\n",
      "memory usage: 180.0+ bytes\n"
     ]
    }
   ],
   "source": [
    "my_df.info()"
   ]
  },
  {
   "cell_type": "markdown",
   "id": "7d848f22-9cc5-4a67-8797-de29ffbd73e0",
   "metadata": {},
   "source": [
    "## DataFrame в другие источники"
   ]
  },
  {
   "cell_type": "code",
   "execution_count": 53,
   "id": "37d3625e-007d-438c-af4f-c45a0afb0788",
   "metadata": {},
   "outputs": [],
   "source": [
    "# CSV"
   ]
  },
  {
   "cell_type": "code",
   "execution_count": 54,
   "id": "f9a86650-0f95-4865-be72-6a3d7d54e128",
   "metadata": {},
   "outputs": [],
   "source": [
    "# to_csv\n",
    "my_df.to_csv('1.csv', index = False)"
   ]
  },
  {
   "cell_type": "code",
   "execution_count": 55,
   "id": "ac761ccd-3a9d-49e7-8d64-bfa72bc656df",
   "metadata": {},
   "outputs": [],
   "source": [
    "# Excel"
   ]
  },
  {
   "cell_type": "raw",
   "id": "d0ff4d2b-bd98-4ece-9514-0f77d09633ea",
   "metadata": {},
   "source": [
    "!pip install openpyxl"
   ]
  },
  {
   "cell_type": "code",
   "execution_count": 56,
   "id": "fb735403-acc7-487b-bd4a-c91939df87c7",
   "metadata": {},
   "outputs": [],
   "source": [
    "# to_excel\n",
    "my_df.to_excel('1.xlsx', index = False)"
   ]
  },
  {
   "cell_type": "markdown",
   "id": "d542e1c5-20c3-43d5-90e6-fb122de3d957",
   "metadata": {},
   "source": [
    "## DataFrame из других источников"
   ]
  },
  {
   "cell_type": "code",
   "execution_count": 57,
   "id": "a7f50c9c-1693-440b-8216-1794b751ff45",
   "metadata": {},
   "outputs": [],
   "source": [
    "# CSV"
   ]
  },
  {
   "cell_type": "code",
   "execution_count": 58,
   "id": "74f0dd40-62aa-443b-9881-7c11614d3db1",
   "metadata": {},
   "outputs": [],
   "source": [
    "# read_csv\n",
    "my_df = pd.read_csv('1.csv')"
   ]
  },
  {
   "cell_type": "code",
   "execution_count": 59,
   "id": "ebc903d4-3b06-4d7e-a390-af77afafa9d7",
   "metadata": {},
   "outputs": [
    {
     "data": {
      "text/html": [
       "<div>\n",
       "<style scoped>\n",
       "    .dataframe tbody tr th:only-of-type {\n",
       "        vertical-align: middle;\n",
       "    }\n",
       "\n",
       "    .dataframe tbody tr th {\n",
       "        vertical-align: top;\n",
       "    }\n",
       "\n",
       "    .dataframe thead th {\n",
       "        text-align: right;\n",
       "    }\n",
       "</style>\n",
       "<table border=\"1\" class=\"dataframe\">\n",
       "  <thead>\n",
       "    <tr style=\"text-align: right;\">\n",
       "      <th></th>\n",
       "      <th>Name</th>\n",
       "      <th>Age</th>\n",
       "      <th>Describe</th>\n",
       "    </tr>\n",
       "  </thead>\n",
       "  <tbody>\n",
       "    <tr>\n",
       "      <th>0</th>\n",
       "      <td>Alice</td>\n",
       "      <td>21</td>\n",
       "      <td>NaN</td>\n",
       "    </tr>\n",
       "    <tr>\n",
       "      <th>1</th>\n",
       "      <td>Rimma</td>\n",
       "      <td>24</td>\n",
       "      <td>Yep</td>\n",
       "    </tr>\n",
       "  </tbody>\n",
       "</table>\n",
       "</div>"
      ],
      "text/plain": [
       "    Name  Age Describe\n",
       "0  Alice   21      NaN\n",
       "1  Rimma   24      Yep"
      ]
     },
     "execution_count": 59,
     "metadata": {},
     "output_type": "execute_result"
    }
   ],
   "source": [
    "my_df"
   ]
  },
  {
   "cell_type": "code",
   "execution_count": 60,
   "id": "ae73789d-4aad-4d03-872d-4ad6bcdf2008",
   "metadata": {},
   "outputs": [],
   "source": [
    "# Excel"
   ]
  },
  {
   "cell_type": "code",
   "execution_count": 91,
   "id": "92bdb21b-124a-4b4c-a387-ffa3a8961667",
   "metadata": {},
   "outputs": [],
   "source": [
    "# read_excel\n",
    "my_df = pd.read_excel('1.xlsx')"
   ]
  },
  {
   "cell_type": "code",
   "execution_count": 92,
   "id": "f9d1b7fd-7b17-410d-a7c2-dd2e38887ec0",
   "metadata": {},
   "outputs": [
    {
     "data": {
      "text/html": [
       "<div>\n",
       "<style scoped>\n",
       "    .dataframe tbody tr th:only-of-type {\n",
       "        vertical-align: middle;\n",
       "    }\n",
       "\n",
       "    .dataframe tbody tr th {\n",
       "        vertical-align: top;\n",
       "    }\n",
       "\n",
       "    .dataframe thead th {\n",
       "        text-align: right;\n",
       "    }\n",
       "</style>\n",
       "<table border=\"1\" class=\"dataframe\">\n",
       "  <thead>\n",
       "    <tr style=\"text-align: right;\">\n",
       "      <th></th>\n",
       "      <th>Name</th>\n",
       "      <th>Age</th>\n",
       "      <th>Describe</th>\n",
       "    </tr>\n",
       "  </thead>\n",
       "  <tbody>\n",
       "    <tr>\n",
       "      <th>0</th>\n",
       "      <td>Alice</td>\n",
       "      <td>21</td>\n",
       "      <td>NaN</td>\n",
       "    </tr>\n",
       "    <tr>\n",
       "      <th>1</th>\n",
       "      <td>Rimma</td>\n",
       "      <td>24</td>\n",
       "      <td>Yep</td>\n",
       "    </tr>\n",
       "  </tbody>\n",
       "</table>\n",
       "</div>"
      ],
      "text/plain": [
       "    Name  Age Describe\n",
       "0  Alice   21      NaN\n",
       "1  Rimma   24      Yep"
      ]
     },
     "execution_count": 92,
     "metadata": {},
     "output_type": "execute_result"
    }
   ],
   "source": [
    "my_df"
   ]
  },
  {
   "cell_type": "markdown",
   "id": "c84afb5a-348b-4125-b2a6-b1f8355b25da",
   "metadata": {},
   "source": [
    "# Основные методы DF"
   ]
  },
  {
   "cell_type": "raw",
   "id": "a935ba1e-b256-463f-a6e8-5ddda0770f2b",
   "metadata": {},
   "source": [
    "head, tail - первые и последние строки в DF"
   ]
  },
  {
   "cell_type": "code",
   "execution_count": 63,
   "id": "f171ae05-d3a3-4315-96aa-f45c5af3dc4d",
   "metadata": {},
   "outputs": [
    {
     "data": {
      "text/html": [
       "<div>\n",
       "<style scoped>\n",
       "    .dataframe tbody tr th:only-of-type {\n",
       "        vertical-align: middle;\n",
       "    }\n",
       "\n",
       "    .dataframe tbody tr th {\n",
       "        vertical-align: top;\n",
       "    }\n",
       "\n",
       "    .dataframe thead th {\n",
       "        text-align: right;\n",
       "    }\n",
       "</style>\n",
       "<table border=\"1\" class=\"dataframe\">\n",
       "  <thead>\n",
       "    <tr style=\"text-align: right;\">\n",
       "      <th></th>\n",
       "      <th>Name</th>\n",
       "      <th>Age</th>\n",
       "      <th>Describe</th>\n",
       "    </tr>\n",
       "  </thead>\n",
       "  <tbody>\n",
       "    <tr>\n",
       "      <th>0</th>\n",
       "      <td>Alice</td>\n",
       "      <td>21</td>\n",
       "      <td>NaN</td>\n",
       "    </tr>\n",
       "  </tbody>\n",
       "</table>\n",
       "</div>"
      ],
      "text/plain": [
       "    Name  Age Describe\n",
       "0  Alice   21      NaN"
      ]
     },
     "execution_count": 63,
     "metadata": {},
     "output_type": "execute_result"
    }
   ],
   "source": [
    "my_df.head(1)"
   ]
  },
  {
   "cell_type": "code",
   "execution_count": 64,
   "id": "0ecbc0fb-4ff6-466c-8ef8-a4a5cface79a",
   "metadata": {},
   "outputs": [
    {
     "data": {
      "text/html": [
       "<div>\n",
       "<style scoped>\n",
       "    .dataframe tbody tr th:only-of-type {\n",
       "        vertical-align: middle;\n",
       "    }\n",
       "\n",
       "    .dataframe tbody tr th {\n",
       "        vertical-align: top;\n",
       "    }\n",
       "\n",
       "    .dataframe thead th {\n",
       "        text-align: right;\n",
       "    }\n",
       "</style>\n",
       "<table border=\"1\" class=\"dataframe\">\n",
       "  <thead>\n",
       "    <tr style=\"text-align: right;\">\n",
       "      <th></th>\n",
       "      <th>Name</th>\n",
       "      <th>Age</th>\n",
       "      <th>Describe</th>\n",
       "    </tr>\n",
       "  </thead>\n",
       "  <tbody>\n",
       "    <tr>\n",
       "      <th>1</th>\n",
       "      <td>Rimma</td>\n",
       "      <td>24</td>\n",
       "      <td>Yep</td>\n",
       "    </tr>\n",
       "  </tbody>\n",
       "</table>\n",
       "</div>"
      ],
      "text/plain": [
       "    Name  Age Describe\n",
       "1  Rimma   24      Yep"
      ]
     },
     "execution_count": 64,
     "metadata": {},
     "output_type": "execute_result"
    }
   ],
   "source": [
    "my_df.tail(1)"
   ]
  },
  {
   "cell_type": "raw",
   "id": "39fabce1-5818-4d73-bf79-1b49a46f32ef",
   "metadata": {},
   "source": [
    "shape - размер таблицы: первое - количество строк, второе количество - колонок"
   ]
  },
  {
   "cell_type": "code",
   "execution_count": 65,
   "id": "a4049636-d9f2-44a8-b070-09d22b291e57",
   "metadata": {},
   "outputs": [
    {
     "data": {
      "text/plain": [
       "(2, 3)"
      ]
     },
     "execution_count": 65,
     "metadata": {},
     "output_type": "execute_result"
    }
   ],
   "source": [
    "my_df.shape"
   ]
  },
  {
   "cell_type": "raw",
   "id": "8c2665e5-1315-4efe-8e02-fdba2b8043f4",
   "metadata": {},
   "source": [
    "info - базовая информация"
   ]
  },
  {
   "cell_type": "code",
   "execution_count": 66,
   "id": "96e538c0-dac1-4115-9428-ef76eddb74f5",
   "metadata": {},
   "outputs": [
    {
     "name": "stdout",
     "output_type": "stream",
     "text": [
      "<class 'pandas.core.frame.DataFrame'>\n",
      "RangeIndex: 2 entries, 0 to 1\n",
      "Data columns (total 3 columns):\n",
      " #   Column    Non-Null Count  Dtype \n",
      "---  ------    --------------  ----- \n",
      " 0   Name      2 non-null      object\n",
      " 1   Age       2 non-null      int64 \n",
      " 2   Describe  1 non-null      object\n",
      "dtypes: int64(1), object(2)\n",
      "memory usage: 180.0+ bytes\n"
     ]
    }
   ],
   "source": [
    "my_df.info()"
   ]
  },
  {
   "cell_type": "raw",
   "id": "adfa516d-ea33-4de6-ad4b-f60f31b2ae67",
   "metadata": {},
   "source": [
    "describe - базовая статистика"
   ]
  },
  {
   "cell_type": "code",
   "execution_count": 67,
   "id": "f15cdc86-697d-4ecc-80a4-cd8509fc2e1f",
   "metadata": {},
   "outputs": [
    {
     "data": {
      "text/html": [
       "<div>\n",
       "<style scoped>\n",
       "    .dataframe tbody tr th:only-of-type {\n",
       "        vertical-align: middle;\n",
       "    }\n",
       "\n",
       "    .dataframe tbody tr th {\n",
       "        vertical-align: top;\n",
       "    }\n",
       "\n",
       "    .dataframe thead th {\n",
       "        text-align: right;\n",
       "    }\n",
       "</style>\n",
       "<table border=\"1\" class=\"dataframe\">\n",
       "  <thead>\n",
       "    <tr style=\"text-align: right;\">\n",
       "      <th></th>\n",
       "      <th>Age</th>\n",
       "    </tr>\n",
       "  </thead>\n",
       "  <tbody>\n",
       "    <tr>\n",
       "      <th>count</th>\n",
       "      <td>2.00000</td>\n",
       "    </tr>\n",
       "    <tr>\n",
       "      <th>mean</th>\n",
       "      <td>22.50000</td>\n",
       "    </tr>\n",
       "    <tr>\n",
       "      <th>std</th>\n",
       "      <td>2.12132</td>\n",
       "    </tr>\n",
       "    <tr>\n",
       "      <th>min</th>\n",
       "      <td>21.00000</td>\n",
       "    </tr>\n",
       "    <tr>\n",
       "      <th>25%</th>\n",
       "      <td>21.75000</td>\n",
       "    </tr>\n",
       "    <tr>\n",
       "      <th>50%</th>\n",
       "      <td>22.50000</td>\n",
       "    </tr>\n",
       "    <tr>\n",
       "      <th>75%</th>\n",
       "      <td>23.25000</td>\n",
       "    </tr>\n",
       "    <tr>\n",
       "      <th>max</th>\n",
       "      <td>24.00000</td>\n",
       "    </tr>\n",
       "  </tbody>\n",
       "</table>\n",
       "</div>"
      ],
      "text/plain": [
       "            Age\n",
       "count   2.00000\n",
       "mean   22.50000\n",
       "std     2.12132\n",
       "min    21.00000\n",
       "25%    21.75000\n",
       "50%    22.50000\n",
       "75%    23.25000\n",
       "max    24.00000"
      ]
     },
     "execution_count": 67,
     "metadata": {},
     "output_type": "execute_result"
    }
   ],
   "source": [
    "my_df.describe()"
   ]
  },
  {
   "cell_type": "markdown",
   "id": "0b2d786d-cd77-460f-86c5-bd6163eb9954",
   "metadata": {},
   "source": [
    "# Индексация"
   ]
  },
  {
   "cell_type": "code",
   "execution_count": 78,
   "id": "5ba952a5-298f-4280-a4be-fba2f3ac767b",
   "metadata": {},
   "outputs": [],
   "source": [
    "data_df = {\n",
    "    'Name': ['Alice', 'Rimma'],\n",
    "    'Age': [21, 24],\n",
    "    'Describe': ['', 'Yep']\n",
    "}"
   ]
  },
  {
   "cell_type": "code",
   "execution_count": 79,
   "id": "edb1ad22-a047-41f0-9623-8e89c2ca2ac9",
   "metadata": {},
   "outputs": [],
   "source": [
    "my_df = pd.DataFrame(data_df, index = ['a','b'])"
   ]
  },
  {
   "cell_type": "markdown",
   "id": "42cb501f-b4f2-408e-96a2-df83a156fead",
   "metadata": {},
   "source": [
    "## По столбцам"
   ]
  },
  {
   "cell_type": "code",
   "execution_count": 81,
   "id": "dca9b52c-c6af-4577-8c18-4b62bcf29724",
   "metadata": {},
   "outputs": [
    {
     "data": {
      "text/html": [
       "<div>\n",
       "<style scoped>\n",
       "    .dataframe tbody tr th:only-of-type {\n",
       "        vertical-align: middle;\n",
       "    }\n",
       "\n",
       "    .dataframe tbody tr th {\n",
       "        vertical-align: top;\n",
       "    }\n",
       "\n",
       "    .dataframe thead th {\n",
       "        text-align: right;\n",
       "    }\n",
       "</style>\n",
       "<table border=\"1\" class=\"dataframe\">\n",
       "  <thead>\n",
       "    <tr style=\"text-align: right;\">\n",
       "      <th></th>\n",
       "      <th>Name</th>\n",
       "      <th>Age</th>\n",
       "      <th>Describe</th>\n",
       "    </tr>\n",
       "  </thead>\n",
       "  <tbody>\n",
       "    <tr>\n",
       "      <th>a</th>\n",
       "      <td>Alice</td>\n",
       "      <td>21</td>\n",
       "      <td></td>\n",
       "    </tr>\n",
       "    <tr>\n",
       "      <th>b</th>\n",
       "      <td>Rimma</td>\n",
       "      <td>24</td>\n",
       "      <td>Yep</td>\n",
       "    </tr>\n",
       "  </tbody>\n",
       "</table>\n",
       "</div>"
      ],
      "text/plain": [
       "    Name  Age Describe\n",
       "a  Alice   21         \n",
       "b  Rimma   24      Yep"
      ]
     },
     "execution_count": 81,
     "metadata": {},
     "output_type": "execute_result"
    }
   ],
   "source": [
    "my_df"
   ]
  },
  {
   "cell_type": "code",
   "execution_count": 82,
   "id": "7f6ca256-fad2-4df2-b1f3-a4594d9d3dc8",
   "metadata": {},
   "outputs": [
    {
     "data": {
      "text/plain": [
       "a    Alice\n",
       "b    Rimma\n",
       "Name: Name, dtype: object"
      ]
     },
     "execution_count": 82,
     "metadata": {},
     "output_type": "execute_result"
    }
   ],
   "source": [
    "my_df['Name']"
   ]
  },
  {
   "cell_type": "code",
   "execution_count": 83,
   "id": "c52f6fd5-a273-4272-9c39-24f127b30f00",
   "metadata": {},
   "outputs": [
    {
     "data": {
      "text/plain": [
       "a    21\n",
       "b    24\n",
       "Name: Age, dtype: int64"
      ]
     },
     "execution_count": 83,
     "metadata": {},
     "output_type": "execute_result"
    }
   ],
   "source": [
    "my_df['Age']"
   ]
  },
  {
   "cell_type": "code",
   "execution_count": 84,
   "id": "1029ae36-97e9-4162-a4d9-e342a9228161",
   "metadata": {},
   "outputs": [
    {
     "data": {
      "text/html": [
       "<div>\n",
       "<style scoped>\n",
       "    .dataframe tbody tr th:only-of-type {\n",
       "        vertical-align: middle;\n",
       "    }\n",
       "\n",
       "    .dataframe tbody tr th {\n",
       "        vertical-align: top;\n",
       "    }\n",
       "\n",
       "    .dataframe thead th {\n",
       "        text-align: right;\n",
       "    }\n",
       "</style>\n",
       "<table border=\"1\" class=\"dataframe\">\n",
       "  <thead>\n",
       "    <tr style=\"text-align: right;\">\n",
       "      <th></th>\n",
       "      <th>Name</th>\n",
       "      <th>Age</th>\n",
       "      <th>Describe</th>\n",
       "    </tr>\n",
       "  </thead>\n",
       "  <tbody>\n",
       "    <tr>\n",
       "      <th>b</th>\n",
       "      <td>Rimma</td>\n",
       "      <td>24</td>\n",
       "      <td>Yep</td>\n",
       "    </tr>\n",
       "  </tbody>\n",
       "</table>\n",
       "</div>"
      ],
      "text/plain": [
       "    Name  Age Describe\n",
       "b  Rimma   24      Yep"
      ]
     },
     "execution_count": 84,
     "metadata": {},
     "output_type": "execute_result"
    }
   ],
   "source": [
    "my_df[my_df['Age'] > 22]"
   ]
  },
  {
   "cell_type": "markdown",
   "id": "face4dce-5cdb-41d6-ae57-f11998a33f6c",
   "metadata": {},
   "source": [
    "## По строкам"
   ]
  },
  {
   "cell_type": "code",
   "execution_count": 85,
   "id": "1ebf9987-986a-4354-97eb-a872075a0b23",
   "metadata": {},
   "outputs": [
    {
     "data": {
      "text/html": [
       "<div>\n",
       "<style scoped>\n",
       "    .dataframe tbody tr th:only-of-type {\n",
       "        vertical-align: middle;\n",
       "    }\n",
       "\n",
       "    .dataframe tbody tr th {\n",
       "        vertical-align: top;\n",
       "    }\n",
       "\n",
       "    .dataframe thead th {\n",
       "        text-align: right;\n",
       "    }\n",
       "</style>\n",
       "<table border=\"1\" class=\"dataframe\">\n",
       "  <thead>\n",
       "    <tr style=\"text-align: right;\">\n",
       "      <th></th>\n",
       "      <th>Name</th>\n",
       "      <th>Age</th>\n",
       "      <th>Describe</th>\n",
       "    </tr>\n",
       "  </thead>\n",
       "  <tbody>\n",
       "    <tr>\n",
       "      <th>a</th>\n",
       "      <td>Alice</td>\n",
       "      <td>21</td>\n",
       "      <td></td>\n",
       "    </tr>\n",
       "    <tr>\n",
       "      <th>b</th>\n",
       "      <td>Rimma</td>\n",
       "      <td>24</td>\n",
       "      <td>Yep</td>\n",
       "    </tr>\n",
       "  </tbody>\n",
       "</table>\n",
       "</div>"
      ],
      "text/plain": [
       "    Name  Age Describe\n",
       "a  Alice   21         \n",
       "b  Rimma   24      Yep"
      ]
     },
     "execution_count": 85,
     "metadata": {},
     "output_type": "execute_result"
    }
   ],
   "source": [
    "my_df"
   ]
  },
  {
   "cell_type": "raw",
   "id": "705804f4-62dd-4474-b451-87e3e14f6a94",
   "metadata": {},
   "source": [
    "loc - выбор по имени индекса"
   ]
  },
  {
   "cell_type": "code",
   "execution_count": 87,
   "id": "f8e5df8d-4d6b-4a91-9f9c-032e6421552a",
   "metadata": {},
   "outputs": [
    {
     "data": {
      "text/plain": [
       "Name        Rimma\n",
       "Age            24\n",
       "Describe      Yep\n",
       "Name: b, dtype: object"
      ]
     },
     "execution_count": 87,
     "metadata": {},
     "output_type": "execute_result"
    }
   ],
   "source": [
    "my_df.loc['b']"
   ]
  },
  {
   "cell_type": "raw",
   "id": "6899701d-230d-494c-8e67-326a869a9141",
   "metadata": {},
   "source": [
    "iloc - выбор по номеру строки"
   ]
  },
  {
   "cell_type": "code",
   "execution_count": 88,
   "id": "150c446d-da9e-4776-a5c7-5fc7d8e4e0e1",
   "metadata": {},
   "outputs": [
    {
     "data": {
      "text/plain": [
       "Name        Rimma\n",
       "Age            24\n",
       "Describe      Yep\n",
       "Name: b, dtype: object"
      ]
     },
     "execution_count": 88,
     "metadata": {},
     "output_type": "execute_result"
    }
   ],
   "source": [
    "my_df.iloc[1]"
   ]
  },
  {
   "cell_type": "markdown",
   "id": "9b35ec28-d4cd-4ba7-bb86-7c2c3291b112",
   "metadata": {},
   "source": [
    "# Работа с пропусками"
   ]
  },
  {
   "cell_type": "markdown",
   "id": "6176266a-bd18-4856-a079-7d87c5dee42a",
   "metadata": {},
   "source": [
    "## Пойск пропусков"
   ]
  },
  {
   "cell_type": "code",
   "execution_count": 93,
   "id": "aa0d278e-211a-400f-99a1-ea2b40bc02eb",
   "metadata": {},
   "outputs": [
    {
     "data": {
      "text/html": [
       "<div>\n",
       "<style scoped>\n",
       "    .dataframe tbody tr th:only-of-type {\n",
       "        vertical-align: middle;\n",
       "    }\n",
       "\n",
       "    .dataframe tbody tr th {\n",
       "        vertical-align: top;\n",
       "    }\n",
       "\n",
       "    .dataframe thead th {\n",
       "        text-align: right;\n",
       "    }\n",
       "</style>\n",
       "<table border=\"1\" class=\"dataframe\">\n",
       "  <thead>\n",
       "    <tr style=\"text-align: right;\">\n",
       "      <th></th>\n",
       "      <th>Name</th>\n",
       "      <th>Age</th>\n",
       "      <th>Describe</th>\n",
       "    </tr>\n",
       "  </thead>\n",
       "  <tbody>\n",
       "    <tr>\n",
       "      <th>0</th>\n",
       "      <td>Alice</td>\n",
       "      <td>21</td>\n",
       "      <td>NaN</td>\n",
       "    </tr>\n",
       "    <tr>\n",
       "      <th>1</th>\n",
       "      <td>Rimma</td>\n",
       "      <td>24</td>\n",
       "      <td>Yep</td>\n",
       "    </tr>\n",
       "  </tbody>\n",
       "</table>\n",
       "</div>"
      ],
      "text/plain": [
       "    Name  Age Describe\n",
       "0  Alice   21      NaN\n",
       "1  Rimma   24      Yep"
      ]
     },
     "execution_count": 93,
     "metadata": {},
     "output_type": "execute_result"
    }
   ],
   "source": [
    "my_df"
   ]
  },
  {
   "cell_type": "raw",
   "id": "3741d2db-d54d-46a3-b60e-5d4a85820b97",
   "metadata": {},
   "source": [
    "isna - находит пропуски"
   ]
  },
  {
   "cell_type": "code",
   "execution_count": 94,
   "id": "a4b5f525-d894-467e-b5ef-f39fca45d766",
   "metadata": {},
   "outputs": [
    {
     "data": {
      "text/plain": [
       "0     True\n",
       "1    False\n",
       "Name: Describe, dtype: bool"
      ]
     },
     "execution_count": 94,
     "metadata": {},
     "output_type": "execute_result"
    }
   ],
   "source": [
    "my_df['Describe'].isna()"
   ]
  },
  {
   "cell_type": "code",
   "execution_count": 96,
   "id": "773baad2-8dd0-440d-9731-17c99bd7c368",
   "metadata": {},
   "outputs": [
    {
     "data": {
      "text/html": [
       "<div>\n",
       "<style scoped>\n",
       "    .dataframe tbody tr th:only-of-type {\n",
       "        vertical-align: middle;\n",
       "    }\n",
       "\n",
       "    .dataframe tbody tr th {\n",
       "        vertical-align: top;\n",
       "    }\n",
       "\n",
       "    .dataframe thead th {\n",
       "        text-align: right;\n",
       "    }\n",
       "</style>\n",
       "<table border=\"1\" class=\"dataframe\">\n",
       "  <thead>\n",
       "    <tr style=\"text-align: right;\">\n",
       "      <th></th>\n",
       "      <th>Name</th>\n",
       "      <th>Age</th>\n",
       "      <th>Describe</th>\n",
       "    </tr>\n",
       "  </thead>\n",
       "  <tbody>\n",
       "    <tr>\n",
       "      <th>0</th>\n",
       "      <td>Alice</td>\n",
       "      <td>21</td>\n",
       "      <td>NaN</td>\n",
       "    </tr>\n",
       "  </tbody>\n",
       "</table>\n",
       "</div>"
      ],
      "text/plain": [
       "    Name  Age Describe\n",
       "0  Alice   21      NaN"
      ]
     },
     "execution_count": 96,
     "metadata": {},
     "output_type": "execute_result"
    }
   ],
   "source": [
    "my_df[my_df['Describe'].isna()]"
   ]
  },
  {
   "cell_type": "raw",
   "id": "292996c2-5f76-4651-90af-48e4d8fa1cf6",
   "metadata": {},
   "source": [
    "notna - находит те где нет пропусков"
   ]
  },
  {
   "cell_type": "code",
   "execution_count": 95,
   "id": "5400fe5f-d20c-49d9-8af6-4e4b7f8bf721",
   "metadata": {},
   "outputs": [
    {
     "data": {
      "text/plain": [
       "0    False\n",
       "1     True\n",
       "Name: Describe, dtype: bool"
      ]
     },
     "execution_count": 95,
     "metadata": {},
     "output_type": "execute_result"
    }
   ],
   "source": [
    "my_df['Describe'].notna()"
   ]
  },
  {
   "cell_type": "code",
   "execution_count": 97,
   "id": "6867e6fe-0ddc-4aac-ba76-31ed290d6ef5",
   "metadata": {},
   "outputs": [
    {
     "data": {
      "text/html": [
       "<div>\n",
       "<style scoped>\n",
       "    .dataframe tbody tr th:only-of-type {\n",
       "        vertical-align: middle;\n",
       "    }\n",
       "\n",
       "    .dataframe tbody tr th {\n",
       "        vertical-align: top;\n",
       "    }\n",
       "\n",
       "    .dataframe thead th {\n",
       "        text-align: right;\n",
       "    }\n",
       "</style>\n",
       "<table border=\"1\" class=\"dataframe\">\n",
       "  <thead>\n",
       "    <tr style=\"text-align: right;\">\n",
       "      <th></th>\n",
       "      <th>Name</th>\n",
       "      <th>Age</th>\n",
       "      <th>Describe</th>\n",
       "    </tr>\n",
       "  </thead>\n",
       "  <tbody>\n",
       "    <tr>\n",
       "      <th>1</th>\n",
       "      <td>Rimma</td>\n",
       "      <td>24</td>\n",
       "      <td>Yep</td>\n",
       "    </tr>\n",
       "  </tbody>\n",
       "</table>\n",
       "</div>"
      ],
      "text/plain": [
       "    Name  Age Describe\n",
       "1  Rimma   24      Yep"
      ]
     },
     "execution_count": 97,
     "metadata": {},
     "output_type": "execute_result"
    }
   ],
   "source": [
    "my_df[my_df['Describe'].notna()]"
   ]
  },
  {
   "cell_type": "markdown",
   "id": "28d7460d-1ff8-4783-992a-5fb7d5b7baa7",
   "metadata": {},
   "source": [
    "## Удаление и заполнение пропусков"
   ]
  },
  {
   "cell_type": "raw",
   "id": "781db0ab-4e85-485e-a0d0-2f6e4ad744af",
   "metadata": {},
   "source": [
    "fillna - заполняет пустую ячейку"
   ]
  },
  {
   "cell_type": "code",
   "execution_count": 102,
   "id": "4448ca77-308d-41e5-a8d1-a89b5b660300",
   "metadata": {},
   "outputs": [],
   "source": [
    "my_df_fillna = my_df.fillna('Nope')"
   ]
  },
  {
   "cell_type": "code",
   "execution_count": 103,
   "id": "4e1871cd-66d2-4c38-aed7-fc96337b48f8",
   "metadata": {},
   "outputs": [
    {
     "data": {
      "text/html": [
       "<div>\n",
       "<style scoped>\n",
       "    .dataframe tbody tr th:only-of-type {\n",
       "        vertical-align: middle;\n",
       "    }\n",
       "\n",
       "    .dataframe tbody tr th {\n",
       "        vertical-align: top;\n",
       "    }\n",
       "\n",
       "    .dataframe thead th {\n",
       "        text-align: right;\n",
       "    }\n",
       "</style>\n",
       "<table border=\"1\" class=\"dataframe\">\n",
       "  <thead>\n",
       "    <tr style=\"text-align: right;\">\n",
       "      <th></th>\n",
       "      <th>Name</th>\n",
       "      <th>Age</th>\n",
       "      <th>Describe</th>\n",
       "    </tr>\n",
       "  </thead>\n",
       "  <tbody>\n",
       "    <tr>\n",
       "      <th>0</th>\n",
       "      <td>Alice</td>\n",
       "      <td>21</td>\n",
       "      <td>Nope</td>\n",
       "    </tr>\n",
       "    <tr>\n",
       "      <th>1</th>\n",
       "      <td>Rimma</td>\n",
       "      <td>24</td>\n",
       "      <td>Yep</td>\n",
       "    </tr>\n",
       "  </tbody>\n",
       "</table>\n",
       "</div>"
      ],
      "text/plain": [
       "    Name  Age Describe\n",
       "0  Alice   21     Nope\n",
       "1  Rimma   24      Yep"
      ]
     },
     "execution_count": 103,
     "metadata": {},
     "output_type": "execute_result"
    }
   ],
   "source": [
    "my_df_fillna"
   ]
  },
  {
   "cell_type": "raw",
   "id": "3b65b33a-c00d-45ee-9315-48513e93dfdf",
   "metadata": {},
   "source": [
    "dropna - удаляет пустую строку"
   ]
  },
  {
   "cell_type": "code",
   "execution_count": 108,
   "id": "1e9bd8fb-f2bd-42b4-b4c7-8c26f6c771bd",
   "metadata": {},
   "outputs": [],
   "source": [
    "my_df_dropna = my_df.dropna()"
   ]
  },
  {
   "cell_type": "code",
   "execution_count": 109,
   "id": "71d44080-a7cc-4174-9117-f041e50369f9",
   "metadata": {},
   "outputs": [
    {
     "data": {
      "text/html": [
       "<div>\n",
       "<style scoped>\n",
       "    .dataframe tbody tr th:only-of-type {\n",
       "        vertical-align: middle;\n",
       "    }\n",
       "\n",
       "    .dataframe tbody tr th {\n",
       "        vertical-align: top;\n",
       "    }\n",
       "\n",
       "    .dataframe thead th {\n",
       "        text-align: right;\n",
       "    }\n",
       "</style>\n",
       "<table border=\"1\" class=\"dataframe\">\n",
       "  <thead>\n",
       "    <tr style=\"text-align: right;\">\n",
       "      <th></th>\n",
       "      <th>Name</th>\n",
       "      <th>Age</th>\n",
       "      <th>Describe</th>\n",
       "    </tr>\n",
       "  </thead>\n",
       "  <tbody>\n",
       "    <tr>\n",
       "      <th>1</th>\n",
       "      <td>Rimma</td>\n",
       "      <td>24</td>\n",
       "      <td>Yep</td>\n",
       "    </tr>\n",
       "  </tbody>\n",
       "</table>\n",
       "</div>"
      ],
      "text/plain": [
       "    Name  Age Describe\n",
       "1  Rimma   24      Yep"
      ]
     },
     "execution_count": 109,
     "metadata": {},
     "output_type": "execute_result"
    }
   ],
   "source": [
    "my_df_dropna"
   ]
  },
  {
   "cell_type": "markdown",
   "id": "c005be52-bd9b-42ec-9893-c87329fc5391",
   "metadata": {},
   "source": [
    "# Группировки"
   ]
  },
  {
   "cell_type": "raw",
   "id": "44ab36b5-14ec-4ced-a5bd-cc0d4e8e5bfa",
   "metadata": {},
   "source": [
    "groupby - групирует данные по стобцам"
   ]
  },
  {
   "cell_type": "code",
   "execution_count": 114,
   "id": "6e45b66d-c9b0-416a-a0b9-1f3711afd5f3",
   "metadata": {},
   "outputs": [
    {
     "data": {
      "text/plain": [
       "Name   Age\n",
       "Alice  21     1\n",
       "Rimma  24     1\n",
       "Name: count, dtype: int64"
      ]
     },
     "execution_count": 114,
     "metadata": {},
     "output_type": "execute_result"
    }
   ],
   "source": [
    "my_df.groupby('Name')['Age'].value_counts()"
   ]
  },
  {
   "cell_type": "markdown",
   "id": "adebf5fb-051b-4559-bd09-f2495b77da50",
   "metadata": {},
   "source": [
    "# Агрегация"
   ]
  },
  {
   "cell_type": "code",
   "execution_count": 117,
   "id": "d6ca409e-0aae-4d37-8e0e-da6f881b95b6",
   "metadata": {},
   "outputs": [
    {
     "data": {
      "text/plain": [
       "np.float64(22.5)"
      ]
     },
     "execution_count": 117,
     "metadata": {},
     "output_type": "execute_result"
    }
   ],
   "source": [
    "my_df['Age'].median()"
   ]
  },
  {
   "cell_type": "raw",
   "id": "76d3c01e-8ed1-430f-ad4d-026485556706",
   "metadata": {},
   "source": [
    "mean - среднее\n",
    "\n",
    "max - максимальное\n",
    "\n",
    "min - минимальное\n",
    "\n",
    "sum - сумма\n",
    "\n",
    "median - медиана"
   ]
  },
  {
   "cell_type": "markdown",
   "id": "ecf15168-df98-481d-a59f-ea03efbcba1a",
   "metadata": {},
   "source": [
    "# Сортировка данных"
   ]
  },
  {
   "cell_type": "raw",
   "id": "7d8f4c45-af6c-407d-b1e3-0debee84d937",
   "metadata": {},
   "source": [
    "sort_values - сортирует данные"
   ]
  },
  {
   "cell_type": "code",
   "execution_count": 121,
   "id": "cabfb5ad-252d-4b4e-931b-4d8420aefa81",
   "metadata": {},
   "outputs": [
    {
     "data": {
      "text/html": [
       "<div>\n",
       "<style scoped>\n",
       "    .dataframe tbody tr th:only-of-type {\n",
       "        vertical-align: middle;\n",
       "    }\n",
       "\n",
       "    .dataframe tbody tr th {\n",
       "        vertical-align: top;\n",
       "    }\n",
       "\n",
       "    .dataframe thead th {\n",
       "        text-align: right;\n",
       "    }\n",
       "</style>\n",
       "<table border=\"1\" class=\"dataframe\">\n",
       "  <thead>\n",
       "    <tr style=\"text-align: right;\">\n",
       "      <th></th>\n",
       "      <th>Name</th>\n",
       "      <th>Age</th>\n",
       "      <th>Describe</th>\n",
       "    </tr>\n",
       "  </thead>\n",
       "  <tbody>\n",
       "    <tr>\n",
       "      <th>1</th>\n",
       "      <td>Rimma</td>\n",
       "      <td>24</td>\n",
       "      <td>Yep</td>\n",
       "    </tr>\n",
       "    <tr>\n",
       "      <th>0</th>\n",
       "      <td>Alice</td>\n",
       "      <td>21</td>\n",
       "      <td>NaN</td>\n",
       "    </tr>\n",
       "  </tbody>\n",
       "</table>\n",
       "</div>"
      ],
      "text/plain": [
       "    Name  Age Describe\n",
       "1  Rimma   24      Yep\n",
       "0  Alice   21      NaN"
      ]
     },
     "execution_count": 121,
     "metadata": {},
     "output_type": "execute_result"
    }
   ],
   "source": [
    "my_df.sort_values(by=['Age', 'Name'], ascending=False)"
   ]
  },
  {
   "cell_type": "markdown",
   "id": "512ab632-1bfb-4169-ba68-36427cec701d",
   "metadata": {},
   "source": [
    "# Объединие"
   ]
  },
  {
   "cell_type": "code",
   "execution_count": 123,
   "id": "3e733893-cdd6-403e-bb57-b97ef2f13007",
   "metadata": {},
   "outputs": [
    {
     "data": {
      "text/html": [
       "<div>\n",
       "<style scoped>\n",
       "    .dataframe tbody tr th:only-of-type {\n",
       "        vertical-align: middle;\n",
       "    }\n",
       "\n",
       "    .dataframe tbody tr th {\n",
       "        vertical-align: top;\n",
       "    }\n",
       "\n",
       "    .dataframe thead th {\n",
       "        text-align: right;\n",
       "    }\n",
       "</style>\n",
       "<table border=\"1\" class=\"dataframe\">\n",
       "  <thead>\n",
       "    <tr style=\"text-align: right;\">\n",
       "      <th></th>\n",
       "      <th>Name</th>\n",
       "      <th>Age</th>\n",
       "      <th>Describe</th>\n",
       "    </tr>\n",
       "  </thead>\n",
       "  <tbody>\n",
       "    <tr>\n",
       "      <th>0</th>\n",
       "      <td>Alice</td>\n",
       "      <td>21</td>\n",
       "      <td>NaN</td>\n",
       "    </tr>\n",
       "    <tr>\n",
       "      <th>1</th>\n",
       "      <td>Rimma</td>\n",
       "      <td>24</td>\n",
       "      <td>Yep</td>\n",
       "    </tr>\n",
       "  </tbody>\n",
       "</table>\n",
       "</div>"
      ],
      "text/plain": [
       "    Name  Age Describe\n",
       "0  Alice   21      NaN\n",
       "1  Rimma   24      Yep"
      ]
     },
     "execution_count": 123,
     "metadata": {},
     "output_type": "execute_result"
    }
   ],
   "source": [
    "my_df"
   ]
  },
  {
   "cell_type": "code",
   "execution_count": 129,
   "id": "1a71807f-c0b3-4143-9254-0824c0c108fd",
   "metadata": {},
   "outputs": [],
   "source": [
    "data_df_1 = {\n",
    "    'FIO': ['Alice', 'Rimma'],\n",
    "    'Salary': [0, 2400000]\n",
    "}"
   ]
  },
  {
   "cell_type": "code",
   "execution_count": 130,
   "id": "2ad7198a-f58f-4563-93d9-9dcee477cd6d",
   "metadata": {},
   "outputs": [],
   "source": [
    "my_df_1 = pd.DataFrame(data_df_1)"
   ]
  },
  {
   "cell_type": "raw",
   "id": "ec5e198c-81c5-46f6-a32a-2bf5af700c6c",
   "metadata": {},
   "source": [
    "merge - Объединяет два Df по ключу"
   ]
  },
  {
   "cell_type": "code",
   "execution_count": 132,
   "id": "baf0c547-6a46-432c-be29-067e31374695",
   "metadata": {},
   "outputs": [],
   "source": [
    "merged = pd.merge(my_df, my_df_1, left_on='Name', right_on='FIO')"
   ]
  },
  {
   "cell_type": "code",
   "execution_count": 133,
   "id": "428ba93c-291f-4af2-afed-fdb5e182efb9",
   "metadata": {},
   "outputs": [
    {
     "data": {
      "text/html": [
       "<div>\n",
       "<style scoped>\n",
       "    .dataframe tbody tr th:only-of-type {\n",
       "        vertical-align: middle;\n",
       "    }\n",
       "\n",
       "    .dataframe tbody tr th {\n",
       "        vertical-align: top;\n",
       "    }\n",
       "\n",
       "    .dataframe thead th {\n",
       "        text-align: right;\n",
       "    }\n",
       "</style>\n",
       "<table border=\"1\" class=\"dataframe\">\n",
       "  <thead>\n",
       "    <tr style=\"text-align: right;\">\n",
       "      <th></th>\n",
       "      <th>Name</th>\n",
       "      <th>Age</th>\n",
       "      <th>Describe</th>\n",
       "      <th>FIO</th>\n",
       "      <th>Salary</th>\n",
       "    </tr>\n",
       "  </thead>\n",
       "  <tbody>\n",
       "    <tr>\n",
       "      <th>0</th>\n",
       "      <td>Alice</td>\n",
       "      <td>21</td>\n",
       "      <td>NaN</td>\n",
       "      <td>Alice</td>\n",
       "      <td>0</td>\n",
       "    </tr>\n",
       "    <tr>\n",
       "      <th>1</th>\n",
       "      <td>Rimma</td>\n",
       "      <td>24</td>\n",
       "      <td>Yep</td>\n",
       "      <td>Rimma</td>\n",
       "      <td>2400000</td>\n",
       "    </tr>\n",
       "  </tbody>\n",
       "</table>\n",
       "</div>"
      ],
      "text/plain": [
       "    Name  Age Describe    FIO   Salary\n",
       "0  Alice   21      NaN  Alice        0\n",
       "1  Rimma   24      Yep  Rimma  2400000"
      ]
     },
     "execution_count": 133,
     "metadata": {},
     "output_type": "execute_result"
    }
   ],
   "source": [
    "merged"
   ]
  },
  {
   "cell_type": "raw",
   "id": "f7ee97cd-1c5a-43b3-b15b-e292e75b9d79",
   "metadata": {},
   "source": [
    "concat - соединяет df по строкам"
   ]
  },
  {
   "cell_type": "code",
   "execution_count": 134,
   "id": "a4eefef7-bfee-4d08-9805-babba28b9ee7",
   "metadata": {},
   "outputs": [],
   "source": [
    "concated = pd.concat([my_df, my_df_1])"
   ]
  },
  {
   "cell_type": "code",
   "execution_count": 135,
   "id": "9dac14cd-e9cb-4d09-a843-0bdd731e71c4",
   "metadata": {},
   "outputs": [
    {
     "data": {
      "text/html": [
       "<div>\n",
       "<style scoped>\n",
       "    .dataframe tbody tr th:only-of-type {\n",
       "        vertical-align: middle;\n",
       "    }\n",
       "\n",
       "    .dataframe tbody tr th {\n",
       "        vertical-align: top;\n",
       "    }\n",
       "\n",
       "    .dataframe thead th {\n",
       "        text-align: right;\n",
       "    }\n",
       "</style>\n",
       "<table border=\"1\" class=\"dataframe\">\n",
       "  <thead>\n",
       "    <tr style=\"text-align: right;\">\n",
       "      <th></th>\n",
       "      <th>Name</th>\n",
       "      <th>Age</th>\n",
       "      <th>Describe</th>\n",
       "      <th>FIO</th>\n",
       "      <th>Salary</th>\n",
       "    </tr>\n",
       "  </thead>\n",
       "  <tbody>\n",
       "    <tr>\n",
       "      <th>0</th>\n",
       "      <td>Alice</td>\n",
       "      <td>21.0</td>\n",
       "      <td>NaN</td>\n",
       "      <td>NaN</td>\n",
       "      <td>NaN</td>\n",
       "    </tr>\n",
       "    <tr>\n",
       "      <th>1</th>\n",
       "      <td>Rimma</td>\n",
       "      <td>24.0</td>\n",
       "      <td>Yep</td>\n",
       "      <td>NaN</td>\n",
       "      <td>NaN</td>\n",
       "    </tr>\n",
       "    <tr>\n",
       "      <th>0</th>\n",
       "      <td>NaN</td>\n",
       "      <td>NaN</td>\n",
       "      <td>NaN</td>\n",
       "      <td>Alice</td>\n",
       "      <td>0.0</td>\n",
       "    </tr>\n",
       "    <tr>\n",
       "      <th>1</th>\n",
       "      <td>NaN</td>\n",
       "      <td>NaN</td>\n",
       "      <td>NaN</td>\n",
       "      <td>Rimma</td>\n",
       "      <td>2400000.0</td>\n",
       "    </tr>\n",
       "  </tbody>\n",
       "</table>\n",
       "</div>"
      ],
      "text/plain": [
       "    Name   Age Describe    FIO     Salary\n",
       "0  Alice  21.0      NaN    NaN        NaN\n",
       "1  Rimma  24.0      Yep    NaN        NaN\n",
       "0    NaN   NaN      NaN  Alice        0.0\n",
       "1    NaN   NaN      NaN  Rimma  2400000.0"
      ]
     },
     "execution_count": 135,
     "metadata": {},
     "output_type": "execute_result"
    }
   ],
   "source": [
    "concated"
   ]
  },
  {
   "cell_type": "code",
   "execution_count": null,
   "id": "25c86311-8b96-4688-ba26-f4ac08d49e42",
   "metadata": {},
   "outputs": [],
   "source": []
  }
 ],
 "metadata": {
  "kernelspec": {
   "display_name": "Python 3 (ipykernel)",
   "language": "python",
   "name": "python3"
  },
  "language_info": {
   "codemirror_mode": {
    "name": "ipython",
    "version": 3
   },
   "file_extension": ".py",
   "mimetype": "text/x-python",
   "name": "python",
   "nbconvert_exporter": "python",
   "pygments_lexer": "ipython3",
   "version": "3.11.8"
  }
 },
 "nbformat": 4,
 "nbformat_minor": 5
}
